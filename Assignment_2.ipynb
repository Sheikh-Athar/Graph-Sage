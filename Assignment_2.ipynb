{
  "nbformat": 4,
  "nbformat_minor": 0,
  "metadata": {
    "colab": {
      "provenance": [],
      "authorship_tag": "ABX9TyNg0upmoAlCiZu0lL6XRN62",
      "include_colab_link": true
    },
    "kernelspec": {
      "name": "python3",
      "display_name": "Python 3"
    },
    "language_info": {
      "name": "python"
    }
  },
  "cells": [
    {
      "cell_type": "markdown",
      "metadata": {
        "id": "view-in-github",
        "colab_type": "text"
      },
      "source": [
        "<a href=\"https://colab.research.google.com/github/Sheikh-Athar/Graph-Sage/blob/main/Assignment_2.ipynb\" target=\"_parent\"><img src=\"https://colab.research.google.com/assets/colab-badge.svg\" alt=\"Open In Colab\"/></a>"
      ]
    },
    {
      "cell_type": "code",
      "execution_count": null,
      "metadata": {
        "colab": {
          "base_uri": "https://localhost:8080/"
        },
        "id": "LrLRSW_BXdbH",
        "outputId": "2425c89d-d4ba-4717-dcdf-01a343b7b97b"
      },
      "outputs": [
        {
          "output_type": "stream",
          "name": "stdout",
          "text": [
            "\u001b[2K     \u001b[90m━━━━━━━━━━━━━━━━━━━━━━━━━━━━━━━━━━━━━━━━\u001b[0m \u001b[32m10.2/10.2 MB\u001b[0m \u001b[31m65.8 MB/s\u001b[0m eta \u001b[36m0:00:00\u001b[0m\n",
            "\u001b[2K     \u001b[90m━━━━━━━━━━━━━━━━━━━━━━━━━━━━━━━━━━━━━━━━\u001b[0m \u001b[32m4.9/4.9 MB\u001b[0m \u001b[31m87.0 MB/s\u001b[0m eta \u001b[36m0:00:00\u001b[0m\n",
            "\u001b[?25h  Installing build dependencies ... \u001b[?25l\u001b[?25hdone\n",
            "  Getting requirements to build wheel ... \u001b[?25l\u001b[?25hdone\n",
            "  Preparing metadata (pyproject.toml) ... \u001b[?25l\u001b[?25hdone\n",
            "  Building wheel for torch_geometric (pyproject.toml) ... \u001b[?25l\u001b[?25hdone\n"
          ]
        }
      ],
      "source": [
        "import torch\n",
        "torchversion = torch.__version__\n",
        "\n",
        "!pip install -q torch-scatter -f https://data.pyg.org/whl/torch-{torchversion}.html\n",
        "!pip install -q torch-sparse -f https://data.pyg.org/whl/torch-{torchversion}.html\n",
        "!pip install -q git+https://github.com/pyg-team/pytorch_geometric.git\n",
        "\n",
        "import networkx as nx\n",
        "import matplotlib.pyplot as plt"
      ]
    },
    {
      "cell_type": "code",
      "source": [
        "import torch\n",
        "from torch_geometric.datasets import Planetoid\n",
        "\n",
        "dataset = Planetoid(root='.', name=\"Cora\")\n",
        "#dataset = Planetoid(root='.',name=\"Pubmed\" )\n",
        "#dataset = Planetoid(root='.',name=\"\" )\n",
        "data = dataset[0]\n",
        "\n",
        "print(f'Dataset: {dataset}')\n",
        "print('-------------------')\n",
        "print(f'Number of graphs: {len(dataset)}')\n",
        "print(f'Number of nodes: {data.x.shape[0]}')\n",
        "print(f'Number of features: {dataset.num_features}')\n",
        "print(f'Number of classes: {dataset.num_classes}')\n",
        "\n",
        "print(f'\\nGraph:')\n",
        "print('------')\n",
        "print(f'Training nodes: {sum(data.train_mask).item()}')\n",
        "print(f'Evaluation nodes: {sum(data.val_mask).item()}')\n",
        "print(f'Test nodes: {sum(data.test_mask).item()}')\n",
        "print(f'Edges are directed: {data.is_directed()}')\n",
        "print(f'Graph has isolated nodes: {data.has_isolated_nodes()}')\n",
        "print(f'Graph has loops: {data.has_self_loops()}')"
      ],
      "metadata": {
        "colab": {
          "base_uri": "https://localhost:8080/"
        },
        "id": "ZT30kGQARntL",
        "outputId": "45c3fa95-eed9-4ee2-f0e5-f9471aa4c31a"
      },
      "execution_count": null,
      "outputs": [
        {
          "output_type": "stream",
          "name": "stdout",
          "text": [
            "Dataset: Cora()\n",
            "-------------------\n",
            "Number of graphs: 1\n",
            "Number of nodes: 2708\n",
            "Number of features: 1433\n",
            "Number of classes: 7\n",
            "\n",
            "Graph:\n",
            "------\n",
            "Training nodes: 140\n",
            "Evaluation nodes: 500\n",
            "Test nodes: 1000\n",
            "Edges are directed: False\n",
            "Graph has isolated nodes: False\n",
            "Graph has loops: False\n"
          ]
        }
      ]
    },
    {
      "cell_type": "code",
      "source": [
        "from torch_geometric.loader import NeighborLoader\n",
        "from torch_geometric.utils import to_networkx\n",
        "\n",
        "# Create batches with neighbor sampling\n",
        "train_loader = NeighborLoader(\n",
        "    data,\n",
        "    num_neighbors=[5, 20],\n",
        "    batch_size=16,\n",
        "    input_nodes=data.train_mask,\n",
        ")"
      ],
      "metadata": {
        "colab": {
          "base_uri": "https://localhost:8080/"
        },
        "id": "9rWDf5QhSez9",
        "outputId": "247638e7-fc14-4ddb-e64a-ef9df077a094"
      },
      "execution_count": null,
      "outputs": [
        {
          "output_type": "stream",
          "name": "stderr",
          "text": [
            "/usr/local/lib/python3.10/dist-packages/torch_geometric/sampler/neighbor_sampler.py:60: UserWarning: Using 'NeighborSampler' without a 'pyg-lib' installation is deprecated and will be removed soon. Please install 'pyg-lib' for accelerated neighborhood sampling\n",
            "  warnings.warn(f\"Using '{self.__class__.__name__}' without a \"\n"
          ]
        }
      ]
    },
    {
      "cell_type": "code",
      "source": [
        "from torch_geometric.utils import degree\n",
        "from collections import Counter\n",
        "\n",
        "def plot_degree(data):\n",
        "  # Get list of degrees for each node\n",
        "  degrees = degree(data.edge_index[0]).numpy()\n",
        "\n",
        "  # Count the number of nodes for each degree\n",
        "  numbers = Counter(degrees)\n",
        "\n",
        "  # Bar plot\n",
        "  fig, ax = plt.subplots(figsize=(12, 6))\n",
        "  ax.set_xlabel('Node degree')\n",
        "  ax.set_ylabel('Number of nodes')\n",
        "  plt.bar(numbers.keys(),\n",
        "          numbers.values(),\n",
        "          color='#0A047A')\n",
        "\n",
        "# Plot node degrees from the original graph\n",
        "plot_degree(data)\n",
        "\n",
        "# Plot node degrees from the last subgraph\n",
        "plot_degree(subdata)"
      ],
      "metadata": {
        "colab": {
          "base_uri": "https://localhost:8080/",
          "height": 1000
        },
        "id": "YcHNtVjjSyTW",
        "outputId": "e962f4b6-eae6-4f84-bd29-c80c57dfc507"
      },
      "execution_count": null,
      "outputs": [
        {
          "output_type": "display_data",
          "data": {
            "text/plain": [
              "<Figure size 1200x600 with 1 Axes>"
            ],
            "image/png": "[encoded data removed]"
          },
          "metadata": {}
        },
        {
          "output_type": "display_data",
          "data": {
            "text/plain": [
              "<Figure size 1200x600 with 1 Axes>"
            ],
            "image/png": "[encoded data removed]"
          },
          "metadata": {}
        }
      ]
    },
    {
      "cell_type": "markdown",
      "source": [],
      "metadata": {
        "id": "R5wWLtCgTF8m"
      }
    },
    {
      "cell_type": "code",
      "source": [
        "import torch.nn.functional as F\n",
        "from torch.nn import Linear, Dropout\n",
        "from torch_geometric.nn import SAGEConv, GATv2Conv, GCNConv\n",
        "\n",
        "\n",
        "class GraphSAGE(torch.nn.Module):\n",
        "  \"\"\"GraphSAGE\"\"\"\n",
        "  def __init__(self, dim_in, dim_h, dim_out):\n",
        "    super().__init__()\n",
        "    self.sage1 = SAGEConv(dim_in, dim_h)\n",
        "    self.sage2 = SAGEConv(dim_h, dim_out)\n",
        "    self.optimizer = torch.optim.Adam(self.parameters(),\n",
        "                                      lr=0.01,\n",
        "                                      weight_decay=5e-4)\n",
        "\n",
        "  def forward(self, x, edge_index):\n",
        "    h = self.sage1(x, edge_index)\n",
        "    h = torch.relu(h)\n",
        "    h = F.dropout(h, p=0.5, training=self.training)\n",
        "    h = self.sage2(h, edge_index)\n",
        "    return h, F.log_softmax(h, dim=1)\n",
        "\n",
        "  def fit(self, data, epochs):\n",
        "    criterion = torch.nn.CrossEntropyLoss()\n",
        "    optimizer = self.optimizer\n",
        "\n",
        "    self.train()\n",
        "    for epoch in range(epochs+1):\n",
        "      total_loss = 0\n",
        "      acc = 0\n",
        "      val_loss = 0\n",
        "      val_acc = 0\n",
        "\n",
        "      # Train on batches\n",
        "      for batch in train_loader:\n",
        "        optimizer.zero_grad()\n",
        "        _, out = self(batch.x, batch.edge_index)\n",
        "        loss = criterion(out[batch.train_mask], batch.y[batch.train_mask])\n",
        "        total_loss += loss\n",
        "        acc += accuracy(out[batch.train_mask].argmax(dim=1),\n",
        "                        batch.y[batch.train_mask])\n",
        "        loss.backward()\n",
        "        optimizer.step()\n",
        "\n",
        "        # Validation\n",
        "        val_loss += criterion(out[batch.val_mask], batch.y[batch.val_mask])\n",
        "        val_acc += accuracy(out[batch.val_mask].argmax(dim=1),\n",
        "                            batch.y[batch.val_mask])\n",
        "\n",
        "      # Print metrics every 10 epochs\n",
        "      if(epoch % 10 == 0):\n",
        "          print(f'Epoch {epoch:>3} | Train Loss: {loss/len(train_loader):.3f} '\n",
        "                f'| Train Acc: {acc/len(train_loader)*100:>6.2f}% | Val Loss: '\n",
        "                f'{val_loss/len(train_loader):.2f} | Val Acc: '\n",
        "                f'{val_acc/len(train_loader)*100:.2f}%')\n",
        "\n",
        "class GAT(torch.nn.Module):\n",
        "  \"\"\"Graph Attention Network\"\"\"\n",
        "  def __init__(self, dim_in, dim_h, dim_out, heads=8):\n",
        "    super().__init__()\n",
        "    self.gat1 = GATv2Conv(dim_in, dim_h, heads=heads)\n",
        "    self.gat2 = GATv2Conv(dim_h*heads, dim_out, heads=heads)\n",
        "    self.optimizer = torch.optim.Adam(self.parameters(),\n",
        "                                      lr=0.005,\n",
        "                                      weight_decay=5e-4)\n",
        "\n",
        "  def forward(self, x, edge_index):\n",
        "    h = F.dropout(x, p=0.6, training=self.training)\n",
        "    h = self.gat1(x, edge_index)\n",
        "    h = F.elu(h)\n",
        "    h = F.dropout(h, p=0.6, training=self.training)\n",
        "    h = self.gat2(h, edge_index)\n",
        "    return h, F.log_softmax(h, dim=1)\n",
        "\n",
        "  def fit(self, data, epochs):\n",
        "    criterion = torch.nn.CrossEntropyLoss()\n",
        "    optimizer = self.optimizer\n",
        "\n",
        "    self.train()\n",
        "    for epoch in range(epochs+1):\n",
        "        # Training\n",
        "        optimizer.zero_grad()\n",
        "        _, out = self(data.x, data.edge_index)\n",
        "        loss = criterion(out[data.train_mask], data.y[data.train_mask])\n",
        "        acc = accuracy(out[data.train_mask].argmax(dim=1),\n",
        "                       data.y[data.train_mask])\n",
        "        loss.backward()\n",
        "        optimizer.step()\n",
        "\n",
        "        # Validation\n",
        "        val_loss = criterion(out[data.val_mask], data.y[data.val_mask])\n",
        "        val_acc = accuracy(out[data.val_mask].argmax(dim=1),\n",
        "                           data.y[data.val_mask])\n",
        "\n",
        "        # Print metrics every 10 epochs\n",
        "        if(epoch % 10 == 0):\n",
        "            print(f'Epoch {epoch:>3} | Train Loss: {loss:.3f} | Train Acc:'\n",
        "                  f' {acc*100:>6.2f}% | Val Loss: {val_loss:.2f} | '\n",
        "                  f'Val Acc: {val_acc*100:.2f}%')\n",
        "\n",
        "class GCN(torch.nn.Module):\n",
        "  \"\"\"Graph Convolutional Network\"\"\"\n",
        "  def __init__(self, dim_in, dim_h, dim_out):\n",
        "    super().__init__()\n",
        "    self.gcn1 = GCNConv(dim_in, dim_h)\n",
        "    self.gcn2 = GCNConv(dim_h, dim_out)\n",
        "    self.optimizer = torch.optim.Adam(self.parameters(),\n",
        "                                      lr=0.01,\n",
        "                                      weight_decay=5e-4)\n",
        "\n",
        "  def forward(self, x, edge_index):\n",
        "    h = F.dropout(x, p=0.5, training=self.training)\n",
        "    h = self.gcn1(h, edge_index)\n",
        "    h = torch.relu(h)\n",
        "    h = F.dropout(h, p=0.5, training=self.training)\n",
        "    h = self.gcn2(h, edge_index)\n",
        "    return h, F.log_softmax(h, dim=1)\n",
        "\n",
        "  def fit(self, data, epochs):\n",
        "    criterion = torch.nn.CrossEntropyLoss()\n",
        "    optimizer = self.optimizer\n",
        "\n",
        "    self.train()\n",
        "    for epoch in range(epochs+1):\n",
        "        # Training\n",
        "        optimizer.zero_grad()\n",
        "        _, out = self(data.x, data.edge_index)\n",
        "        loss = criterion(out[data.train_mask], data.y[data.train_mask])\n",
        "        acc = accuracy(out[data.train_mask].argmax(dim=1),\n",
        "                       data.y[data.train_mask])\n",
        "        loss.backward()\n",
        "        optimizer.step()\n",
        "\n",
        "        # Validation\n",
        "        val_loss = criterion(out[data.val_mask], data.y[data.val_mask])\n",
        "        val_acc = accuracy(out[data.val_mask].argmax(dim=1),\n",
        "                           data.y[data.val_mask])\n",
        "\n",
        "        # Print metrics every 10 epochs\n",
        "        if(epoch % 10 == 0):\n",
        "            print(f'Epoch {epoch:>3} | Train Loss: {loss:.3f} | Train Acc:'\n",
        "                  f' {acc*100:>6.2f}% | Val Loss: {val_loss:.2f} | '\n",
        "                  f'Val Acc: {val_acc*100:.2f}%')\n",
        "\n",
        "def accuracy(pred_y, y):\n",
        "    \"\"\"Calculate accuracy.\"\"\"\n",
        "    return ((pred_y == y).sum() / len(y)).item()\n",
        "\n",
        "def test(model, data):\n",
        "    \"\"\"Evaluate the model on test set and print the accuracy score.\"\"\"\n",
        "    model.eval()\n",
        "    _, out = model(data.x, data.edge_index)\n",
        "    acc = accuracy(out.argmax(dim=1)[data.test_mask], data.y[data.test_mask])\n",
        "    return acc"
      ],
      "metadata": {
        "id": "t2RFyAKXTHJs"
      },
      "execution_count": null,
      "outputs": []
    },
    {
      "cell_type": "code",
      "source": [
        "%%time\n",
        "# Create GraphSAGE\n",
        "graphsage = GraphSAGE(dataset.num_features, 64, dataset.num_classes)\n",
        "print(graphsage)\n",
        "\n",
        "# Train\n",
        "graphsage.fit(data, 200)\n",
        "\n",
        "# Test\n",
        "print(f'\\nGraphSAGE test accuracy: {test(graphsage, data)*100:.2f}%\\n')"
      ],
      "metadata": {
        "colab": {
          "base_uri": "https://localhost:8080/"
        },
        "id": "-Rs_Y4ctTMF2",
        "outputId": "968199ae-497e-477e-c9e8-a2b17945eae0"
      },
      "execution_count": null,
      "outputs": [
        {
          "output_type": "stream",
          "name": "stdout",
          "text": [
            "GraphSAGE(\n",
            "  (sage1): SAGEConv(1433, 64, aggr=mean)\n",
            "  (sage2): SAGEConv(64, 7, aggr=mean)\n",
            ")\n",
            "Epoch   0 | Train Loss: 0.219 | Train Acc:  25.52% | Val Loss: 1.93 | Val Acc: 18.05%\n",
            "Epoch  10 | Train Loss: 0.004 | Train Acc: 100.00% | Val Loss: 1.27 | Val Acc: 58.13%\n",
            "Epoch  20 | Train Loss: 0.002 | Train Acc: 100.00% | Val Loss: 1.26 | Val Acc: 57.31%\n",
            "Epoch  30 | Train Loss: 0.000 | Train Acc: 100.00% | Val Loss: 1.22 | Val Acc: 61.68%\n",
            "Epoch  40 | Train Loss: 0.002 | Train Acc: 100.00% | Val Loss: 1.54 | Val Acc: 55.14%\n",
            "Epoch  50 | Train Loss: 0.001 | Train Acc: 100.00% | Val Loss: 1.44 | Val Acc: 54.83%\n",
            "Epoch  60 | Train Loss: 0.000 | Train Acc:  99.26% | Val Loss: 1.37 | Val Acc: 56.05%\n",
            "Epoch  70 | Train Loss: 0.000 | Train Acc:  99.28% | Val Loss: 1.45 | Val Acc: 59.23%\n",
            "Epoch  80 | Train Loss: 0.008 | Train Acc:  99.12% | Val Loss: 1.65 | Val Acc: 54.71%\n",
            "Epoch  90 | Train Loss: 0.001 | Train Acc:  99.59% | Val Loss: 1.74 | Val Acc: 56.90%\n",
            "Epoch 100 | Train Loss: 0.000 | Train Acc:  99.57% | Val Loss: 1.63 | Val Acc: 56.48%\n",
            "Epoch 110 | Train Loss: 0.000 | Train Acc:  99.59% | Val Loss: 1.63 | Val Acc: 55.89%\n",
            "Epoch 120 | Train Loss: 0.000 | Train Acc: 100.00% | Val Loss: 1.52 | Val Acc: 58.71%\n",
            "Epoch 130 | Train Loss: 0.001 | Train Acc: 100.00% | Val Loss: 1.48 | Val Acc: 56.92%\n",
            "Epoch 140 | Train Loss: 0.000 | Train Acc: 100.00% | Val Loss: 1.56 | Val Acc: 57.90%\n",
            "Epoch 150 | Train Loss: 0.000 | Train Acc: 100.00% | Val Loss: 1.58 | Val Acc: 57.63%\n",
            "Epoch 160 | Train Loss: 0.001 | Train Acc: 100.00% | Val Loss: 1.96 | Val Acc: 54.14%\n",
            "Epoch 170 | Train Loss: 0.000 | Train Acc: 100.00% | Val Loss: 1.73 | Val Acc: 54.50%\n",
            "Epoch 180 | Train Loss: 0.000 | Train Acc: 100.00% | Val Loss: 2.04 | Val Acc: 50.95%\n",
            "Epoch 190 | Train Loss: 0.000 | Train Acc:  99.62% | Val Loss: 1.77 | Val Acc: 56.50%\n",
            "Epoch 200 | Train Loss: 0.000 | Train Acc:  98.88% | Val Loss: 1.76 | Val Acc: 56.73%\n",
            "\n",
            "GraphSAGE test accuracy: 74.80%\n",
            "\n",
            "CPU times: user 21.2 s, sys: 76 ms, total: 21.3 s\n",
            "Wall time: 21.4 s\n"
          ]
        }
      ]
    },
    {
      "cell_type": "code",
      "source": [
        "%%time\n",
        "\n",
        "# Create GCN\n",
        "gcn = GCN(dataset.num_features, 64, dataset.num_classes)\n",
        "print(gcn)\n",
        "\n",
        "# Train\n",
        "gcn.fit(data, 200)\n",
        "\n",
        "# Test\n",
        "print(f'\\nGCN test accuracy: {test(gcn, data)*100:.2f}%\\n')"
      ],
      "metadata": {
        "colab": {
          "base_uri": "https://localhost:8080/"
        },
        "id": "lB0dd_jhTQrX",
        "outputId": "3ac0df2d-70a1-4cb9-d0d2-370cfde02969"
      },
      "execution_count": null,
      "outputs": [
        {
          "output_type": "stream",
          "name": "stdout",
          "text": [
            "GCN(\n",
            "  (gcn1): GCNConv(1433, 64)\n",
            "  (gcn2): GCNConv(64, 7)\n",
            ")\n",
            "Epoch   0 | Train Loss: 1.944 | Train Acc:  15.71% | Val Loss: 1.94 | Val Acc: 17.40%\n",
            "Epoch  10 | Train Loss: 0.223 | Train Acc:  98.57% | Val Loss: 0.93 | Val Acc: 71.40%\n",
            "Epoch  20 | Train Loss: 0.029 | Train Acc: 100.00% | Val Loss: 0.93 | Val Acc: 74.20%\n",
            "Epoch  30 | Train Loss: 0.014 | Train Acc: 100.00% | Val Loss: 1.06 | Val Acc: 74.80%\n",
            "Epoch  40 | Train Loss: 0.021 | Train Acc:  99.29% | Val Loss: 1.03 | Val Acc: 72.60%\n",
            "Epoch  50 | Train Loss: 0.017 | Train Acc: 100.00% | Val Loss: 1.12 | Val Acc: 72.40%\n",
            "Epoch  60 | Train Loss: 0.026 | Train Acc:  99.29% | Val Loss: 1.00 | Val Acc: 73.00%\n",
            "Epoch  70 | Train Loss: 0.020 | Train Acc:  99.29% | Val Loss: 1.04 | Val Acc: 70.60%\n",
            "Epoch  80 | Train Loss: 0.020 | Train Acc: 100.00% | Val Loss: 0.97 | Val Acc: 72.80%\n",
            "Epoch  90 | Train Loss: 0.033 | Train Acc: 100.00% | Val Loss: 1.04 | Val Acc: 72.60%\n",
            "Epoch 100 | Train Loss: 0.028 | Train Acc:  99.29% | Val Loss: 1.09 | Val Acc: 71.20%\n",
            "Epoch 110 | Train Loss: 0.019 | Train Acc: 100.00% | Val Loss: 0.98 | Val Acc: 71.60%\n",
            "Epoch 120 | Train Loss: 0.024 | Train Acc: 100.00% | Val Loss: 0.97 | Val Acc: 74.00%\n",
            "Epoch 130 | Train Loss: 0.014 | Train Acc: 100.00% | Val Loss: 0.92 | Val Acc: 75.00%\n",
            "Epoch 140 | Train Loss: 0.020 | Train Acc: 100.00% | Val Loss: 0.97 | Val Acc: 72.80%\n",
            "Epoch 150 | Train Loss: 0.021 | Train Acc: 100.00% | Val Loss: 0.95 | Val Acc: 73.00%\n",
            "Epoch 160 | Train Loss: 0.021 | Train Acc:  99.29% | Val Loss: 1.02 | Val Acc: 72.20%\n",
            "Epoch 170 | Train Loss: 0.018 | Train Acc: 100.00% | Val Loss: 1.10 | Val Acc: 72.80%\n",
            "Epoch 180 | Train Loss: 0.028 | Train Acc:  99.29% | Val Loss: 0.94 | Val Acc: 72.80%\n",
            "Epoch 190 | Train Loss: 0.010 | Train Acc: 100.00% | Val Loss: 1.03 | Val Acc: 73.60%\n",
            "Epoch 200 | Train Loss: 0.017 | Train Acc: 100.00% | Val Loss: 0.95 | Val Acc: 73.40%\n",
            "\n",
            "GCN test accuracy: 80.80%\n",
            "\n",
            "CPU times: user 9.39 s, sys: 24.4 ms, total: 9.41 s\n",
            "Wall time: 9.45 s\n"
          ]
        }
      ]
    },
    {
      "cell_type": "code",
      "source": [
        "%%time\n",
        "# Create GAT\n",
        "gat = GAT(dataset.num_features, 64, dataset.num_classes)\n",
        "print(gat)\n",
        "\n",
        "# Train\n",
        "gat.fit(data, 200)\n",
        "\n",
        "# Test\n",
        "print(f'\\nGAT test accuracy: {test(gat, data)*100:.2f}%\\n')"
      ],
      "metadata": {
        "colab": {
          "base_uri": "https://localhost:8080/"
        },
        "id": "GKoR5N1zT7YH",
        "outputId": "d1103c78-2f7d-4b59-ebb9-f78ccc878723"
      },
      "execution_count": null,
      "outputs": [
        {
          "output_type": "stream",
          "name": "stdout",
          "text": [
            "GAT(\n",
            "  (gat1): GATv2Conv(1433, 64, heads=8)\n",
            "  (gat2): GATv2Conv(512, 7, heads=8)\n",
            ")\n",
            "Epoch   0 | Train Loss: 4.061 | Train Acc:   2.14% | Val Loss: 4.06 | Val Acc: 0.80%\n",
            "Epoch  10 | Train Loss: 0.042 | Train Acc: 100.00% | Val Loss: 0.73 | Val Acc: 76.60%\n",
            "Epoch  20 | Train Loss: 0.004 | Train Acc: 100.00% | Val Loss: 1.04 | Val Acc: 75.20%\n",
            "Epoch  30 | Train Loss: 0.001 | Train Acc: 100.00% | Val Loss: 1.01 | Val Acc: 76.60%\n",
            "Epoch  40 | Train Loss: 0.003 | Train Acc: 100.00% | Val Loss: 0.97 | Val Acc: 73.80%\n",
            "Epoch  50 | Train Loss: 0.006 | Train Acc: 100.00% | Val Loss: 0.87 | Val Acc: 74.80%\n",
            "Epoch  60 | Train Loss: 0.010 | Train Acc: 100.00% | Val Loss: 0.81 | Val Acc: 76.00%\n",
            "Epoch  70 | Train Loss: 0.007 | Train Acc: 100.00% | Val Loss: 0.83 | Val Acc: 74.20%\n",
            "Epoch  80 | Train Loss: 0.006 | Train Acc: 100.00% | Val Loss: 0.80 | Val Acc: 75.60%\n",
            "Epoch  90 | Train Loss: 0.006 | Train Acc: 100.00% | Val Loss: 0.84 | Val Acc: 75.80%\n",
            "Epoch 100 | Train Loss: 0.006 | Train Acc: 100.00% | Val Loss: 0.86 | Val Acc: 75.40%\n",
            "Epoch 110 | Train Loss: 0.006 | Train Acc: 100.00% | Val Loss: 0.85 | Val Acc: 75.80%\n",
            "Epoch 120 | Train Loss: 0.006 | Train Acc: 100.00% | Val Loss: 0.88 | Val Acc: 76.20%\n",
            "Epoch 130 | Train Loss: 0.005 | Train Acc: 100.00% | Val Loss: 0.89 | Val Acc: 73.60%\n",
            "Epoch 140 | Train Loss: 0.005 | Train Acc: 100.00% | Val Loss: 0.92 | Val Acc: 76.00%\n",
            "Epoch 150 | Train Loss: 0.005 | Train Acc: 100.00% | Val Loss: 0.92 | Val Acc: 74.60%\n",
            "Epoch 160 | Train Loss: 0.005 | Train Acc: 100.00% | Val Loss: 0.90 | Val Acc: 75.00%\n",
            "Epoch 170 | Train Loss: 0.005 | Train Acc: 100.00% | Val Loss: 0.93 | Val Acc: 74.80%\n",
            "Epoch 180 | Train Loss: 0.004 | Train Acc: 100.00% | Val Loss: 0.97 | Val Acc: 75.00%\n",
            "Epoch 190 | Train Loss: 0.004 | Train Acc: 100.00% | Val Loss: 0.94 | Val Acc: 74.20%\n",
            "Epoch 200 | Train Loss: 0.004 | Train Acc: 100.00% | Val Loss: 0.96 | Val Acc: 75.20%\n",
            "\n",
            "GAT test accuracy: 78.80%\n",
            "\n",
            "CPU times: user 1min 29s, sys: 4.53 s, total: 1min 34s\n",
            "Wall time: 1min 35s\n"
          ]
        }
      ]
    }
  ]
}